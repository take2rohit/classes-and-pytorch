{
 "cells": [
  {
   "cell_type": "code",
   "execution_count": 43,
   "metadata": {},
   "outputs": [
    {
     "data": {
      "text/plain": [
       "device(type='cuda', index=0)"
      ]
     },
     "execution_count": 43,
     "metadata": {},
     "output_type": "execute_result"
    }
   ],
   "source": [
    "%matplotlib inline\n",
    "import torch\n",
    "import torchvision\n",
    "import torchvision.transforms as transforms\n",
    "import matplotlib.pyplot as plt\n",
    "import numpy as np\n",
    "import pandas as pd\n",
    "import torch.optim as optim\n",
    "import torch.nn as nn\n",
    "import torch.nn.functional as F\n",
    "from torch.autograd import Variable\n",
    "from torch.utils.data import Dataset, DataLoader\n",
    "from torch.utils.tensorboard import SummaryWriter\n",
    "\n",
    "import warnings\n",
    "warnings.filterwarnings(\"ignore\")\n",
    "\n",
    "device = torch.device(\"cuda:0\" if torch.cuda.is_available() else \"cpu\")\n",
    "device"
   ]
  },
  {
   "cell_type": "code",
   "execution_count": 44,
   "metadata": {},
   "outputs": [],
   "source": [
    "class FashionDataset(Dataset):\n",
    "    \n",
    "    def __init__(self, csv_file):\n",
    "        fashion_data = pd.read_csv(csv_file, header=None)\n",
    "        numpy_arr = fashion_data.loc[:,:].to_numpy()\n",
    "        self.length = numpy_arr.shape[0]\n",
    "        self.y_data = torch.from_numpy(numpy_arr[:,0])\n",
    "        self.x_data = torch.from_numpy(numpy_arr[:,1:]/255)\n",
    "\n",
    "    def __getitem__(self,index):\n",
    "        return self.y_data[index], self.x_data[index]\n",
    "\n",
    "    def __len__(self):\n",
    "        return self.length\n",
    "\n",
    "def convert_to_one_hot(num, l):\n",
    "    hot = np.zeros((1,l))\n",
    "    hot[0,num] = 1.0\n",
    "    return hot  "
   ]
  },
  {
   "cell_type": "code",
   "execution_count": 67,
   "metadata": {},
   "outputs": [],
   "source": [
    "train_dataset = FashionDataset('data/FASHION_MNIST/fashion-mnist_train.csv')\n",
    "train_loader = DataLoader(dataset = train_dataset, batch_size = 16384,shuffle=True)\n",
    "\n",
    "test_dataset = FashionDataset('data/FASHION_MNIST/fashion-mnist_test.csv')\n",
    "test_loader = DataLoader(dataset = train_dataset, batch_size = 8,shuffle=True)"
   ]
  },
  {
   "cell_type": "code",
   "execution_count": 77,
   "metadata": {},
   "outputs": [
    {
     "data": {
      "image/png": "[encoded data removed]",
      "text/plain": [
       "<Figure size 432x288 with 1 Axes>"
      ]
     },
     "metadata": {
      "needs_background": "light"
     },
     "output_type": "display_data"
    }
   ],
   "source": [
    "dataiter = iter(train_loader)\n",
    "labels,images = dataiter.next()\n",
    "\n",
    "images_grid = images.view(-1,1,28,28)\n",
    "img_grid = torchvision.utils.make_grid(images_grid,nrow=8)\n",
    "plt.imshow(img_grid[1,:,:], cmap='gray')\n",
    "\n",
    "classes = ['T-shirt', 'Trouser', 'Pullover', 'Dress', 'Coat', \n",
    "              'Sandal', 'Shirt', 'Sneaker', 'Bag', 'Ankle_boot']"
   ]
  },
  {
   "cell_type": "code",
   "execution_count": 51,
   "metadata": {
    "scrolled": true
   },
   "outputs": [
    {
     "data": {
      "text/plain": [
       "Net(\n",
       "  (fc1): Linear(in_features=784, out_features=120, bias=True)\n",
       "  (fc2): Linear(in_features=120, out_features=84, bias=True)\n",
       "  (fc3): Linear(in_features=84, out_features=10, bias=True)\n",
       "  (relu): ReLU()\n",
       ")"
      ]
     },
     "execution_count": 51,
     "metadata": {},
     "output_type": "execute_result"
    }
   ],
   "source": [
    "class Net(nn.Module):\n",
    "    def __init__(self):\n",
    "        super().__init__()\n",
    "        self.fc1 = nn.Linear(784, 120)\n",
    "        self.fc2 = nn.Linear(120, 84)\n",
    "        self.fc3 = nn.Linear(84, 784)\n",
    "        self.fc3 = nn.Linear(84, 10)\n",
    "        self.relu = nn.ReLU()\n",
    "#         self.sigmoid = nn.Sigmoid()\n",
    "#         self.softmax = nn.Softmax()\n",
    "        \n",
    "    def forward(self, x):\n",
    "        x = self.fc1(x)\n",
    "        x = self.relu(x)\n",
    "        x = self.fc2(x)\n",
    "        x = self.relu(x)\n",
    "        x = self.fc3(x)\n",
    "#         x = self.softmax(x)\n",
    "        return x\n",
    "\n",
    "\n",
    "net = Net()\n",
    "net.to(device)\n",
    "criterion = nn.CrossEntropyLoss()\n",
    "optimizer = torch.optim.Adam(net.parameters())\n",
    "net"
   ]
  },
  {
   "cell_type": "code",
   "execution_count": 52,
   "metadata": {
    "scrolled": true
   },
   "outputs": [
    {
     "name": "stdout",
     "output_type": "stream",
     "text": [
      "epochs: 0, loss: 8.96084713935852\n",
      "Model Saved! at epoch no.: 0\n",
      "epochs: 2, loss: 6.916322946548462\n",
      "epochs: 4, loss: 4.693787932395935\n",
      "epochs: 6, loss: 3.521826446056366\n",
      "epochs: 8, loss: 2.981937825679779\n",
      "epochs: 10, loss: 2.647408604621887\n",
      "epochs: 12, loss: 2.420339584350586\n",
      "epochs: 14, loss: 2.2618632316589355\n",
      "epochs: 16, loss: 2.1443451046943665\n",
      "epochs: 18, loss: 2.061894655227661\n",
      "epochs: 20, loss: 1.9923701882362366\n",
      "epochs: 22, loss: 1.9278117418289185\n",
      "epochs: 24, loss: 1.8840370774269104\n",
      "epochs: 26, loss: 1.837831974029541\n",
      "epochs: 28, loss: 1.800920158624649\n",
      "epochs: 30, loss: 1.7708762884140015\n",
      "epochs: 32, loss: 1.7428730428218842\n",
      "epochs: 34, loss: 1.7118335664272308\n",
      "epochs: 36, loss: 1.6837035417556763\n",
      "epochs: 38, loss: 1.6577234268188477\n",
      "epochs: 40, loss: 1.6393077075481415\n",
      "epochs: 42, loss: 1.620559811592102\n",
      "epochs: 44, loss: 1.6065105497837067\n",
      "epochs: 46, loss: 1.5885439813137054\n",
      "epochs: 48, loss: 1.584505558013916\n",
      "epochs: 50, loss: 1.5598860085010529\n",
      "epochs: 52, loss: 1.5392374694347382\n",
      "epochs: 54, loss: 1.5270290970802307\n",
      "epochs: 56, loss: 1.5161633789539337\n",
      "epochs: 58, loss: 1.5004278421401978\n",
      "epochs: 60, loss: 1.4875364899635315\n",
      "epochs: 62, loss: 1.478134661912918\n",
      "epochs: 64, loss: 1.463287889957428\n",
      "epochs: 66, loss: 1.4627282321453094\n",
      "epochs: 68, loss: 1.4520719349384308\n",
      "epochs: 70, loss: 1.4431825876235962\n",
      "epochs: 72, loss: 1.4323862195014954\n",
      "epochs: 74, loss: 1.4181486666202545\n",
      "epochs: 76, loss: 1.4171615540981293\n",
      "epochs: 78, loss: 1.3950013518333435\n",
      "epochs: 80, loss: 1.3919762969017029\n",
      "epochs: 82, loss: 1.3814228177070618\n",
      "epochs: 84, loss: 1.368100643157959\n",
      "epochs: 86, loss: 1.3648915588855743\n",
      "epochs: 88, loss: 1.3503183126449585\n",
      "epochs: 90, loss: 1.345438688993454\n",
      "epochs: 92, loss: 1.3299229741096497\n",
      "epochs: 94, loss: 1.330842763185501\n",
      "epochs: 96, loss: 1.3209542334079742\n",
      "epochs: 98, loss: 1.3155588209629059\n",
      "epochs: 100, loss: 1.3236012756824493\n",
      "Model Saved! at epoch no.: 100\n",
      "epochs: 102, loss: 1.3070265650749207\n",
      "epochs: 104, loss: 1.2917882204055786\n",
      "epochs: 106, loss: 1.2883297801017761\n",
      "epochs: 108, loss: 1.27525994181633\n",
      "epochs: 110, loss: 1.2681577503681183\n",
      "epochs: 112, loss: 1.266476571559906\n",
      "epochs: 114, loss: 1.2626812160015106\n",
      "epochs: 116, loss: 1.249416321516037\n",
      "epochs: 118, loss: 1.2427752315998077\n",
      "epochs: 120, loss: 1.2451401352882385\n",
      "epochs: 122, loss: 1.2403119206428528\n",
      "epochs: 124, loss: 1.224814087152481\n",
      "epochs: 126, loss: 1.2138466835021973\n",
      "epochs: 128, loss: 1.2187191545963287\n",
      "epochs: 130, loss: 1.2137118577957153\n",
      "epochs: 132, loss: 1.2013365030288696\n",
      "epochs: 134, loss: 1.197422593832016\n",
      "epochs: 136, loss: 1.1937079727649689\n",
      "epochs: 138, loss: 1.2029256224632263\n",
      "epochs: 140, loss: 1.1950557827949524\n",
      "epochs: 142, loss: 1.1816667020320892\n",
      "epochs: 144, loss: 1.1662072539329529\n",
      "epochs: 146, loss: 1.1659702360630035\n",
      "epochs: 148, loss: 1.1662736535072327\n",
      "epochs: 150, loss: 1.1699080765247345\n",
      "epochs: 152, loss: 1.1620489358901978\n",
      "epochs: 154, loss: 1.1511186063289642\n",
      "epochs: 156, loss: 1.147330492734909\n",
      "epochs: 158, loss: 1.13966965675354\n",
      "epochs: 160, loss: 1.1333337128162384\n",
      "epochs: 162, loss: 1.1303612291812897\n",
      "epochs: 164, loss: 1.1226873695850372\n",
      "epochs: 166, loss: 1.1185466945171356\n",
      "epochs: 168, loss: 1.1191758811473846\n",
      "epochs: 170, loss: 1.1154796481132507\n",
      "epochs: 172, loss: 1.107980191707611\n",
      "epochs: 174, loss: 1.0969942808151245\n",
      "epochs: 176, loss: 1.093886524438858\n",
      "epochs: 178, loss: 1.0918245017528534\n",
      "epochs: 180, loss: 1.0828633606433868\n",
      "epochs: 182, loss: 1.0786373913288116\n",
      "epochs: 184, loss: 1.0796017348766327\n",
      "epochs: 186, loss: 1.0699764490127563\n",
      "epochs: 188, loss: 1.0638137757778168\n",
      "epochs: 190, loss: 1.0698420703411102\n",
      "epochs: 192, loss: 1.0592373311519623\n",
      "epochs: 194, loss: 1.0616093575954437\n",
      "epochs: 196, loss: 1.0502439439296722\n",
      "epochs: 198, loss: 1.0592907667160034\n"
     ]
    }
   ],
   "source": [
    "#  tensorboard --logdir=runs\n",
    "\n",
    "writer = SummaryWriter('runs/fashion_mnist_experiment_2')\n",
    "\n",
    "iterations = 200\n",
    "\n",
    "\n",
    "for epoch in range(iterations):\n",
    "    running_loss = 0.0\n",
    "    for i,data in enumerate(train_loader):\n",
    "\n",
    "        labels, images = data\n",
    "        outputs, inputs = Variable(labels).to(device), Variable(images).to(device)\n",
    "#         one_hots = torch.Tensor([convert_to_one_hot(int(i),10) for i in outputs]).view(1,-1)\n",
    "        \n",
    "        y_pred = net.forward(inputs.float().to(device))\n",
    "\n",
    "        loss = criterion(y_pred, outputs.to(device))\n",
    "        optimizer.zero_grad()\n",
    "        loss.backward()\n",
    "        optimizer.step()\n",
    "        running_loss += loss.item()\n",
    "\n",
    "    if epoch % 2 == 0:\n",
    "        print('epochs: {}, loss: {}'.format(epoch, running_loss))\n",
    "        writer.add_scalar('training loss',running_loss, epoch)\n",
    "        \n",
    "    if epoch % 100 == 0:\n",
    "        PATH = './saved_model.pth'\n",
    "        torch.save(net.state_dict(), PATH)\n",
    "        print(\"Model Saved! at epoch no.: {}\".format(epoch))\n",
    "\n",
    "writer.close()"
   ]
  },
  {
   "cell_type": "code",
   "execution_count": 84,
   "metadata": {},
   "outputs": [
    {
     "name": "stdout",
     "output_type": "stream",
     "text": [
      "GroundTruth:  Sandal T-shirt Shirt Shirt Shirt  Coat T-shirt Ankle_boot\n"
     ]
    },
    {
     "data": {
      "image/png": "[encoded data removed]",
      "text/plain": [
       "<Figure size 432x288 with 1 Axes>"
      ]
     },
     "metadata": {
      "needs_background": "light"
     },
     "output_type": "display_data"
    }
   ],
   "source": [
    "net = Net()\n",
    "net.load_state_dict(torch.load(PATH))\n",
    "\n",
    "dataiter = iter(test_loader)\n",
    "labels ,images= dataiter.next()\n",
    "\n",
    "images_grid = images.view(-1,1,28,28)\n",
    "img_grid = torchvision.utils.make_grid(images_grid,nrow=8)\n",
    "plt.imshow(img_grid[1,:,:], cmap='gray')\n",
    "print('GroundTruth: ', ' '.join('%5s' % classes[labels[j]] for j in range(8)))"
   ]
  },
  {
   "cell_type": "code",
   "execution_count": 85,
   "metadata": {},
   "outputs": [
    {
     "name": "stdout",
     "output_type": "stream",
     "text": [
      "torch.Size([8, 10])\n",
      "GroundTruth:  Sandal T-shirt Shirt Shirt Shirt  Coat T-shirt Ankle_boot\n",
      "Predicted:  Sandal T-shirt Shirt Pullover Trouser  Coat T-shirt Ankle_boot\n"
     ]
    }
   ],
   "source": [
    "outputs = net(images.float())\n",
    "print(outputs.shape)\n",
    "_, predicted = torch.max(outputs, 1)\n",
    "\n",
    "print('GroundTruth: ', ' '.join('%5s' % classes[labels[j]] for j in range(8)))\n",
    "print('Predicted: ', ' '.join('%5s' % classes[predicted[j]] for j in range(8)))"
   ]
  },
  {
   "cell_type": "code",
   "execution_count": null,
   "metadata": {},
   "outputs": [],
   "source": []
  }
 ],
 "metadata": {
  "kernelspec": {
   "display_name": "Python 3",
   "language": "python",
   "name": "python3"
  },
  "language_info": {
   "codemirror_mode": {
    "name": "ipython",
    "version": 3
   },
   "file_extension": ".py",
   "mimetype": "text/x-python",
   "name": "python",
   "nbconvert_exporter": "python",
   "pygments_lexer": "ipython3",
   "version": "3.6.8"
  }
 },
 "nbformat": 4,
 "nbformat_minor": 2
}
