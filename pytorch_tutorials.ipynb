{
 "cells": [
  {
   "cell_type": "code",
   "execution_count": 27,
   "metadata": {},
   "outputs": [],
   "source": [
    "%matplotlib inline\n",
    "import torch\n",
    "import torchvision\n",
    "import torchvision.transforms as transforms\n",
    "import matplotlib.pyplot as plt\n",
    "import numpy as np\n",
    "import pandas as pd\n",
    "import torch.optim as optim\n",
    "import torch.nn as nn\n",
    "import torch.nn.functional as F\n",
    "from torch.autograd import Variable\n",
    "from torch.utils.data import Dataset, DataLoader\n",
    "from torch.utils.tensorboard import SummaryWriter\n",
    "\n",
    "import warnings\n",
    "warnings.filterwarnings(\"ignore\")\n",
    "\n",
    "device = torch.device(\"cuda:0\" if torch.cuda.is_available() else \"cpu\")"
   ]
  },
  {
   "cell_type": "code",
   "execution_count": 28,
   "metadata": {},
   "outputs": [],
   "source": [
    "class FashionDataset(Dataset):\n",
    "    \n",
    "    def __init__(self, csv_file):\n",
    "        fashion_data = pd.read_csv(csv_file, header=None)\n",
    "        numpy_arr = fashion_data.loc[:,:].to_numpy()\n",
    "        self.length = numpy_arr.shape[0]\n",
    "        self.y_data = torch.from_numpy(numpy_arr[:,0])\n",
    "        self.x_data = torch.from_numpy(numpy_arr[:,1:]/255)\n",
    "\n",
    "    def __getitem__(self,index):\n",
    "        return self.y_data[index], self.x_data[index]\n",
    "\n",
    "    def __len__(self):\n",
    "        return self.length\n",
    "\n",
    "def convert_to_one_hot(num, l):\n",
    "    hot = np.zeros((1,l))\n",
    "    hot[0,num] = 1.0\n",
    "    return hot  \n",
    "\n",
    "def accuracy(labels ,images, batch, forwardPass):\n",
    "    \n",
    "    '''\n",
    "    For test images: labels = Ground truth values\n",
    "                     images = Pass image to get final output  then compare\n",
    "                     forwardPass = True\n",
    "                     \n",
    "    For train images: labels = Ground truth values\n",
    "                      images = Pass Output LABEL of net to get (not image)\n",
    "                      forwardPass = False\n",
    "    '''\n",
    "    if forwardPass:\n",
    "        outputs = net(images.float().to(device))\n",
    "        _, predicted = torch.max(outputs, 1)\n",
    "        predicted = np.array(predicted.cpu())\n",
    "        \n",
    "    else:\n",
    "        _, predicted = torch.max(images, 1)\n",
    "        predicted = np.array(predicted.cpu())\n",
    "        \n",
    "    ground_truth = np.array([labels[j] for j in range(batch)])\n",
    "    correct_predictions = batch - np.count_nonzero(ground_truth - predicted )\n",
    "    accuracy = correct_predictions*100/batch\n",
    "    return accuracy"
   ]
  },
  {
   "cell_type": "code",
   "execution_count": 29,
   "metadata": {},
   "outputs": [],
   "source": [
    "train_dataset = FashionDataset('data/fashion-mnist_train.csv')\n",
    "train_loader = DataLoader(dataset = train_dataset, batch_size = 2**16,shuffle=True)\n",
    "\n",
    "batch_size_test_data = 9995\n",
    "test_dataset = FashionDataset('data/fashion-mnist_test.csv')\n",
    "test_loader = DataLoader(dataset = test_dataset, batch_size = batch_size_test_data,shuffle=True)"
   ]
  },
  {
   "cell_type": "code",
   "execution_count": 30,
   "metadata": {},
   "outputs": [
    {
     "data": {
      "image/png": "[encoded data removed]",
      "text/plain": [
       "<Figure size 432x288 with 1 Axes>"
      ]
     },
     "metadata": {
      "needs_background": "light"
     },
     "output_type": "display_data"
    }
   ],
   "source": [
    "dataiter = iter(train_loader)\n",
    "labels,images = dataiter.next()\n",
    "\n",
    "images_grid = images.view(-1,1,28,28)\n",
    "img_grid = torchvision.utils.make_grid(images_grid,nrow=8)\n",
    "plt.imshow(img_grid[1,:,:], cmap='gray')\n",
    "\n",
    "classes = ['T-shirt', 'Trouser', 'Pullover', 'Dress', 'Coat', \n",
    "              'Sandal', 'Shirt', 'Sneaker', 'Bag', 'Ankle_boot']"
   ]
  },
  {
   "cell_type": "code",
   "execution_count": 31,
   "metadata": {
    "scrolled": true
   },
   "outputs": [
    {
     "data": {
      "text/plain": [
       "Net(\n",
       "  (fc1): Linear(in_features=784, out_features=120, bias=True)\n",
       "  (fc2): Linear(in_features=120, out_features=84, bias=True)\n",
       "  (fc3): Linear(in_features=84, out_features=10, bias=True)\n",
       "  (relu): ReLU()\n",
       ")"
      ]
     },
     "execution_count": 31,
     "metadata": {},
     "output_type": "execute_result"
    }
   ],
   "source": [
    "class Net(nn.Module):\n",
    "    def __init__(self):\n",
    "        super().__init__()\n",
    "        self.fc1 = nn.Linear(784, 120)\n",
    "        self.fc2 = nn.Linear(120, 84)\n",
    "        self.fc3 = nn.Linear(84, 784)\n",
    "        self.fc3 = nn.Linear(84, 10)\n",
    "        self.relu = nn.ReLU()\n",
    "#         self.sigmoid = nn.Sigmoid()\n",
    "#         self.softmax = nn.Softmax()\n",
    "        \n",
    "    def forward(self, x):\n",
    "        x = self.fc1(x)\n",
    "        x = self.relu(x)\n",
    "        x = self.fc2(x)\n",
    "        x = self.relu(x)\n",
    "        x = self.fc3(x)\n",
    "#         x = self.softmax(x)\n",
    "        return x\n",
    "\n",
    "\n",
    "net = Net()\n",
    "net.to(device)\n",
    "criterion = nn.CrossEntropyLoss()\n",
    "optimizer = torch.optim.Adam(net.parameters())\n",
    "net"
   ]
  },
  {
   "cell_type": "code",
   "execution_count": 32,
   "metadata": {
    "scrolled": true
   },
   "outputs": [
    {
     "name": "stdout",
     "output_type": "stream",
     "text": [
      "epochs: 0, loss: 2.30638, train_accuracy: 21.21061, test_accuracy: 4.63167\n",
      "Model Saved! at epoch no.: 0\n",
      "epochs: 2, loss: 2.20812, train_accuracy: 43.31166, test_accuracy: 38.60833\n",
      "epochs: 4, loss: 2.09412, train_accuracy: 50.84542, test_accuracy: 46.33333\n",
      "epochs: 6, loss: 1.95765, train_accuracy: 59.37969, test_accuracy: 56.74000\n",
      "epochs: 8, loss: 1.80547, train_accuracy: 60.24012, test_accuracy: 60.41167\n",
      "epochs: 10, loss: 1.65131, train_accuracy: 61.51076, test_accuracy: 60.91667\n",
      "epochs: 12, loss: 1.50260, train_accuracy: 63.40170, test_accuracy: 62.65333\n",
      "epochs: 14, loss: 1.36412, train_accuracy: 64.89245, test_accuracy: 64.22000\n",
      "epochs: 16, loss: 1.23908, train_accuracy: 65.28264, test_accuracy: 65.10500\n",
      "epochs: 18, loss: 1.13326, train_accuracy: 65.34267, test_accuracy: 65.39333\n",
      "epochs: 20, loss: 1.04608, train_accuracy: 65.62281, test_accuracy: 65.63333\n",
      "epochs: 22, loss: 0.97496, train_accuracy: 65.88294, test_accuracy: 66.04833\n",
      "epochs: 24, loss: 0.91630, train_accuracy: 67.42371, test_accuracy: 66.86500\n",
      "epochs: 26, loss: 0.86765, train_accuracy: 69.15458, test_accuracy: 68.44833\n",
      "epochs: 28, loss: 0.82675, train_accuracy: 70.65533, test_accuracy: 70.06167\n",
      "epochs: 30, loss: 0.79194, train_accuracy: 71.28564, test_accuracy: 71.07667\n",
      "epochs: 32, loss: 0.76211, train_accuracy: 72.46623, test_accuracy: 72.02000\n",
      "epochs: 34, loss: 0.73602, train_accuracy: 73.33667, test_accuracy: 72.85500\n",
      "epochs: 36, loss: 0.71276, train_accuracy: 74.14707, test_accuracy: 73.83167\n",
      "epochs: 38, loss: 0.69193, train_accuracy: 74.80740, test_accuracy: 74.54000\n",
      "epochs: 40, loss: 0.67276, train_accuracy: 75.27764, test_accuracy: 75.27667\n",
      "epochs: 42, loss: 0.65535, train_accuracy: 76.05803, test_accuracy: 75.93500\n",
      "epochs: 44, loss: 0.63929, train_accuracy: 76.84842, test_accuracy: 76.56333\n",
      "epochs: 46, loss: 0.62462, train_accuracy: 77.56878, test_accuracy: 77.43333\n",
      "epochs: 48, loss: 0.61138, train_accuracy: 78.38919, test_accuracy: 78.11333\n",
      "epochs: 50, loss: 0.59957, train_accuracy: 78.95948, test_accuracy: 78.72000\n",
      "epochs: 52, loss: 0.58913, train_accuracy: 79.53977, test_accuracy: 79.29500\n",
      "epochs: 54, loss: 0.57834, train_accuracy: 80.08004, test_accuracy: 79.82500\n",
      "epochs: 56, loss: 0.56924, train_accuracy: 80.47024, test_accuracy: 80.14000\n",
      "epochs: 58, loss: 0.56037, train_accuracy: 80.82041, test_accuracy: 80.56833\n",
      "epochs: 60, loss: 0.55186, train_accuracy: 81.11056, test_accuracy: 81.00000\n",
      "epochs: 62, loss: 0.54441, train_accuracy: 81.30065, test_accuracy: 81.36333\n",
      "epochs: 64, loss: 0.53671, train_accuracy: 81.77089, test_accuracy: 81.59667\n",
      "epochs: 66, loss: 0.53035, train_accuracy: 81.91096, test_accuracy: 81.70000\n",
      "epochs: 68, loss: 0.52379, train_accuracy: 82.22111, test_accuracy: 81.97000\n",
      "epochs: 70, loss: 0.51741, train_accuracy: 82.36118, test_accuracy: 82.26000\n",
      "epochs: 72, loss: 0.51150, train_accuracy: 82.79140, test_accuracy: 82.41833\n",
      "epochs: 74, loss: 0.50623, train_accuracy: 82.87144, test_accuracy: 82.52667\n",
      "epochs: 76, loss: 0.50071, train_accuracy: 83.09155, test_accuracy: 82.72833\n",
      "epochs: 78, loss: 0.49577, train_accuracy: 83.17159, test_accuracy: 82.94333\n",
      "epochs: 80, loss: 0.49126, train_accuracy: 83.42171, test_accuracy: 83.07333\n",
      "epochs: 82, loss: 0.48637, train_accuracy: 83.74187, test_accuracy: 83.22667\n",
      "epochs: 84, loss: 0.48219, train_accuracy: 83.80190, test_accuracy: 83.37667\n",
      "epochs: 86, loss: 0.47818, train_accuracy: 83.97199, test_accuracy: 83.47833\n",
      "epochs: 88, loss: 0.47429, train_accuracy: 84.04202, test_accuracy: 83.65833\n",
      "epochs: 90, loss: 0.47107, train_accuracy: 84.06203, test_accuracy: 83.71500\n",
      "epochs: 92, loss: 0.46791, train_accuracy: 84.12206, test_accuracy: 83.75833\n",
      "epochs: 94, loss: 0.46384, train_accuracy: 84.25213, test_accuracy: 83.90667\n",
      "epochs: 96, loss: 0.46027, train_accuracy: 84.35218, test_accuracy: 84.06167\n",
      "epochs: 98, loss: 0.45714, train_accuracy: 84.34217, test_accuracy: 84.22000\n",
      "epochs: 100, loss: 0.45419, train_accuracy: 84.42221, test_accuracy: 84.33500\n",
      "Model Saved! at epoch no.: 100\n",
      "epochs: 102, loss: 0.45127, train_accuracy: 84.61231, test_accuracy: 84.39333\n",
      "epochs: 104, loss: 0.44782, train_accuracy: 84.71236, test_accuracy: 84.56333\n",
      "epochs: 106, loss: 0.44521, train_accuracy: 84.72236, test_accuracy: 84.57167\n",
      "epochs: 108, loss: 0.44274, train_accuracy: 84.66233, test_accuracy: 84.61000\n",
      "epochs: 110, loss: 0.43995, train_accuracy: 84.94247, test_accuracy: 84.73667\n",
      "epochs: 112, loss: 0.43759, train_accuracy: 85.06253, test_accuracy: 84.79667\n",
      "epochs: 114, loss: 0.43522, train_accuracy: 85.11256, test_accuracy: 84.87500\n",
      "epochs: 116, loss: 0.43235, train_accuracy: 85.15258, test_accuracy: 84.98167\n",
      "epochs: 118, loss: 0.42989, train_accuracy: 85.10255, test_accuracy: 85.07000\n",
      "epochs: 120, loss: 0.42788, train_accuracy: 85.12256, test_accuracy: 85.12833\n",
      "epochs: 122, loss: 0.42510, train_accuracy: 85.17259, test_accuracy: 85.22333\n",
      "epochs: 124, loss: 0.42264, train_accuracy: 85.26263, test_accuracy: 85.33333\n",
      "epochs: 126, loss: 0.42077, train_accuracy: 85.30265, test_accuracy: 85.41833\n",
      "epochs: 128, loss: 0.41848, train_accuracy: 85.42271, test_accuracy: 85.48667\n",
      "epochs: 130, loss: 0.41601, train_accuracy: 85.48274, test_accuracy: 85.54833\n",
      "epochs: 132, loss: 0.41395, train_accuracy: 85.62281, test_accuracy: 85.63333\n",
      "epochs: 134, loss: 0.41219, train_accuracy: 85.72286, test_accuracy: 85.71833\n",
      "epochs: 136, loss: 0.41084, train_accuracy: 85.66283, test_accuracy: 85.74500\n",
      "epochs: 138, loss: 0.41133, train_accuracy: 85.61281, test_accuracy: 85.73167\n",
      "epochs: 140, loss: 0.41421, train_accuracy: 85.55278, test_accuracy: 85.59500\n",
      "epochs: 142, loss: 0.40675, train_accuracy: 85.70285, test_accuracy: 85.82000\n",
      "epochs: 144, loss: 0.40644, train_accuracy: 85.62281, test_accuracy: 85.89167\n",
      "epochs: 146, loss: 0.40209, train_accuracy: 85.96298, test_accuracy: 86.04833\n",
      "epochs: 148, loss: 0.40087, train_accuracy: 85.96298, test_accuracy: 86.06500\n",
      "epochs: 150, loss: 0.39939, train_accuracy: 85.83292, test_accuracy: 86.11667\n",
      "epochs: 152, loss: 0.39630, train_accuracy: 86.09305, test_accuracy: 86.25000\n",
      "epochs: 154, loss: 0.39663, train_accuracy: 86.21311, test_accuracy: 86.21667\n",
      "epochs: 156, loss: 0.39429, train_accuracy: 85.98299, test_accuracy: 86.26667\n",
      "epochs: 158, loss: 0.39171, train_accuracy: 86.26313, test_accuracy: 86.39000\n",
      "epochs: 160, loss: 0.39212, train_accuracy: 86.32316, test_accuracy: 86.39000\n",
      "epochs: 162, loss: 0.38956, train_accuracy: 86.12306, test_accuracy: 86.48667\n",
      "epochs: 164, loss: 0.38752, train_accuracy: 86.36318, test_accuracy: 86.56167\n",
      "epochs: 166, loss: 0.38721, train_accuracy: 86.39320, test_accuracy: 86.59667\n",
      "epochs: 168, loss: 0.38514, train_accuracy: 86.23312, test_accuracy: 86.65167\n",
      "epochs: 170, loss: 0.38330, train_accuracy: 86.40320, test_accuracy: 86.76667\n",
      "epochs: 172, loss: 0.38272, train_accuracy: 86.41321, test_accuracy: 86.71167\n",
      "epochs: 174, loss: 0.38076, train_accuracy: 86.44322, test_accuracy: 86.81833\n",
      "epochs: 176, loss: 0.37936, train_accuracy: 86.53327, test_accuracy: 86.85833\n",
      "epochs: 178, loss: 0.37839, train_accuracy: 86.64332, test_accuracy: 86.89167\n",
      "epochs: 180, loss: 0.37664, train_accuracy: 86.52326, test_accuracy: 86.98167\n",
      "epochs: 182, loss: 0.37558, train_accuracy: 86.64332, test_accuracy: 87.01500\n",
      "epochs: 184, loss: 0.37417, train_accuracy: 86.67334, test_accuracy: 87.07167\n",
      "epochs: 186, loss: 0.37287, train_accuracy: 86.64332, test_accuracy: 87.08833\n",
      "epochs: 188, loss: 0.37170, train_accuracy: 86.64332, test_accuracy: 87.13000\n",
      "epochs: 190, loss: 0.37035, train_accuracy: 86.73337, test_accuracy: 87.18667\n",
      "epochs: 192, loss: 0.36925, train_accuracy: 86.74337, test_accuracy: 87.20333\n",
      "epochs: 194, loss: 0.36795, train_accuracy: 86.67334, test_accuracy: 87.25667\n",
      "epochs: 196, loss: 0.36704, train_accuracy: 86.72336, test_accuracy: 87.28167\n",
      "epochs: 198, loss: 0.36706, train_accuracy: 86.63332, test_accuracy: 87.30833\n",
      "epochs: 200, loss: 0.37039, train_accuracy: 86.43322, test_accuracy: 87.01333\n",
      "Model Saved! at epoch no.: 200\n"
     ]
    }
   ],
   "source": [
    "#  tensorboard --logdir=runs\n",
    "\n",
    "writer = SummaryWriter('runs/fashion_mnist_experiment_2')\n",
    "\n",
    "test_dataiter = iter(test_loader)\n",
    "test_labels ,test_images= test_dataiter.next() \n",
    "\n",
    "iterations = 200\n",
    "\n",
    "\n",
    "for epoch in range(iterations+1):\n",
    "    running_loss = 0.0\n",
    "    for i,data in enumerate(train_loader):\n",
    "\n",
    "        train_labels, train_images = data\n",
    "        outputs, inputs = Variable(train_labels).to(device), Variable(train_images).to(device)\n",
    "#         one_hots = torch.Tensor([convert_to_one_hot(int(i),10) for i in outputs]).view(1,-1)\n",
    "        \n",
    "        y_pred = net.forward(inputs.float().to(device))\n",
    "\n",
    "        loss = criterion(y_pred, outputs.to(device))\n",
    "        optimizer.zero_grad()\n",
    "        loss.backward()\n",
    "        optimizer.step()\n",
    "        running_loss += loss.item()\n",
    "        test_accuracy = accuracy(test_labels,test_images, batch_size_test_data, forwardPass = True)\n",
    "        train_accuracy = accuracy(train_labels,y_pred, len(train_dataset), forwardPass = False)\n",
    "        \n",
    "    if epoch % 2 == 0:\n",
    "        print('epochs: {}, loss: {:.5f}, train_accuracy: {:.5f}, test_accuracy: {:.5f}'\n",
    "              .format(epoch, running_loss,test_accuracy,train_accuracy))\n",
    "        writer.add_scalar('training loss',running_loss, epoch)\n",
    "        \n",
    "    if epoch % 100 == 0:\n",
    "        PATH = './saved_model.pth'\n",
    "        torch.save(net.state_dict(), PATH)\n",
    "        print(\"Model Saved! at epoch no.: {}\".format(epoch))\n",
    "\n",
    "writer.close()"
   ]
  },
  {
   "cell_type": "code",
   "execution_count": 35,
   "metadata": {},
   "outputs": [
    {
     "name": "stdout",
     "output_type": "stream",
     "text": [
      "GroundTruth:  Trouser   Bag T-shirt Dress T-shirt  Coat Sneaker T-shirt\n",
      "Predicted:  Trouser   Bag   Bag Dress T-shirt  Coat Sneaker T-shirt\n"
     ]
    },
    {
     "data": {
      "image/png": "[encoded data removed]",
      "text/plain": [
       "<Figure size 432x288 with 1 Axes>"
      ]
     },
     "metadata": {
      "needs_background": "light"
     },
     "output_type": "display_data"
    }
   ],
   "source": [
    "def predictions(PATH, images, validation_size, device):\n",
    "    net = Net().to(device)\n",
    "    net.load_state_dict(torch.load(PATH))\n",
    "    outputs = net(images.float().to(device))\n",
    "    _, predicted = torch.max(outputs, 1)\n",
    "    predicted = [classes[predicted[j]] for j in range(validation_size)]\n",
    "    print('Predicted: ', ' '.join('%5s' % prediction for prediction in predicted))\n",
    "    \n",
    "    \n",
    "validation_size = 8\n",
    "model_PATH = 'saved_model.pth'\n",
    "\n",
    "validation_dataset = FashionDataset('data/fashion-mnist_test.csv')\n",
    "validation_loader = DataLoader(dataset = validation_dataset, batch_size = validation_size,shuffle=True)\n",
    "dataiter = iter(validation_loader)\n",
    "labels ,images= dataiter.next()\n",
    "\n",
    "images_grid = images.view(-1,1,28,28)\n",
    "img_grid = torchvision.utils.make_grid(images_grid,nrow=8)\n",
    "plt.imshow(img_grid[1,:,:], cmap='gray')\n",
    "print('GroundTruth: ', ' '.join('%5s' % classes[labels[j]] for j in range(8)))\n",
    "\n",
    "predictions(model_PATH, images, validation_size, device) "
   ]
  },
  {
   "cell_type": "code",
   "execution_count": null,
   "metadata": {},
   "outputs": [],
   "source": []
  }
 ],
 "metadata": {
  "kernelspec": {
   "display_name": "Python 3",
   "language": "python",
   "name": "python3"
  },
  "language_info": {
   "codemirror_mode": {
    "name": "ipython",
    "version": 3
   },
   "file_extension": ".py",
   "mimetype": "text/x-python",
   "name": "python",
   "nbconvert_exporter": "python",
   "pygments_lexer": "ipython3",
   "version": "3.6.9"
  }
 },
 "nbformat": 4,
 "nbformat_minor": 2
}
