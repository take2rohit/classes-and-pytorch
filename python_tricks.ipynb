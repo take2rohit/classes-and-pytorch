{
 "cells": [
  {
   "cell_type": "markdown",
   "metadata": {},
   "source": [
    "# Ternary Conditionals\n",
    "\n",
    "Single line codes for better coding"
   ]
  },
  {
   "cell_type": "code",
   "execution_count": 2,
   "metadata": {},
   "outputs": [
    {
     "output_type": "stream",
     "name": "stdout",
     "text": "0\n"
    }
   ],
   "source": [
    "condition = False\n",
    "x = 1 if condition else 0\n",
    "print(x)"
   ]
  },
  {
   "cell_type": "code",
   "execution_count": 31,
   "metadata": {},
   "outputs": [
    {
     "output_type": "execute_result",
     "data": {
      "text/plain": "[0, 1, 8]"
     },
     "metadata": {},
     "execution_count": 31
    }
   ],
   "source": [
    "a = [pow(i, 3) for i in range(3)]\n",
    "a # list of power in one line "
   ]
  },
  {
   "cell_type": "markdown",
   "metadata": {},
   "source": [
    "# lambda function\n",
    "A lambda function can take any number of arguments, but can only have one expression."
   ]
  },
  {
   "cell_type": "code",
   "execution_count": 33,
   "metadata": {},
   "outputs": [
    {
     "output_type": "stream",
     "name": "stdout",
     "text": "15\n13\n"
    }
   ],
   "source": [
    "x = lambda a : a + 10\n",
    "print(x(5))\n",
    "\n",
    "x = lambda a, b, c : a + b + c\n",
    "print(x(5, 6, 2))"
   ]
  },
  {
   "cell_type": "markdown",
   "metadata": {},
   "source": [
    "## filter with lambda"
   ]
  },
  {
   "cell_type": "code",
   "execution_count": 37,
   "metadata": {},
   "outputs": [
    {
     "output_type": "stream",
     "name": "stdout",
     "text": "[5, 7, 97, 77, 23, 73, 61]\n"
    }
   ],
   "source": [
    "# small program that returns the odd numbers from an input list:\n",
    "\n",
    "li = [5, 7, 22, 97, 54, 62, 77, 23, 73, 61] \n",
    "final_list = list(filter(lambda x: (x%2 != 0) , li)) \n",
    "print(final_list) \n"
   ]
  },
  {
   "cell_type": "markdown",
   "metadata": {},
   "source": [
    "## map with lambda"
   ]
  },
  {
   "cell_type": "code",
   "execution_count": null,
   "metadata": {},
   "outputs": [],
   "source": [
    "# map() with lambda() to get double of a list. \n",
    "li = [5, 7, 22, 97, 54, 62, 77, 23, 73, 61] \n",
    "final_list = list(map(lambda x: x*2 , li)) \n",
    "print(final_list) "
   ]
  },
  {
   "cell_type": "markdown",
   "metadata": {},
   "source": [
    "# Underscore Placeholders and fstring\n",
    "For better readability of code as well as output "
   ]
  },
  {
   "cell_type": "code",
   "execution_count": 7,
   "metadata": {},
   "outputs": [
    {
     "output_type": "stream",
     "name": "stdout",
     "text": "10000000\n10,000,000\n"
    }
   ],
   "source": [
    "x = 1_00_00_000\n",
    "print(x)\n",
    "print(f'{x:,}')"
   ]
  },
  {
   "cell_type": "code",
   "execution_count": 11,
   "metadata": {},
   "outputs": [
    {
     "output_type": "stream",
     "name": "stdout",
     "text": "My name is Rohit Lal\n"
    }
   ],
   "source": [
    "first, last = \"Rohit\", \"Lal\"\n",
    "\n",
    "print(f'My name is {first} {last}')"
   ]
  },
  {
   "cell_type": "markdown",
   "metadata": {},
   "source": [
    "# Unpacking "
   ]
  },
  {
   "cell_type": "code",
   "execution_count": 15,
   "metadata": {},
   "outputs": [
    {
     "output_type": "stream",
     "name": "stdout",
     "text": "a = 1 , b = 2\na = 1 , b = 2\na = 1 , b = 2, c = [3, 4, 5, 6]\na = 1 , b = 2, c = [3, 4, 5], d = 6\n"
    }
   ],
   "source": [
    "a,b, _ = (1,2,3)\n",
    "print(f'a = {a} , b = {b}')\n",
    "\n",
    "a,b, *_ = (1,2,3,4,5,6)\n",
    "print(f'a = {a} , b = {b}')\n",
    "\n",
    "a,b, *c = (1,2,3,4,5,6)\n",
    "print(f'a = {a} , b = {b}, c = {c}')\n",
    "\n",
    "a, b, *c , d = (1,2,3,4,5,6)\n",
    "print(f'a = {a} , b = {b}, c = {c}, d = {d}')"
   ]
  },
  {
   "cell_type": "markdown",
   "metadata": {},
   "source": [
    "# Dynamically setting values to Class"
   ]
  },
  {
   "cell_type": "code",
   "execution_count": 17,
   "metadata": {},
   "outputs": [
    {
     "output_type": "stream",
     "name": "stdout",
     "text": "Rohit Lal\n"
    }
   ],
   "source": [
    "class Person():\n",
    "    pass\n",
    "\n",
    "p1 = Person()\n",
    "\n",
    "p1.first = \"Rohit\"\n",
    "p1.last = \"Lal\"\n",
    "\n",
    "print(p1.first, p1.last)"
   ]
  },
  {
   "cell_type": "code",
   "execution_count": 23,
   "metadata": {},
   "outputs": [
    {
     "output_type": "stream",
     "name": "stdout",
     "text": "AttributeError\nwe cant use `p1.first_key = first_name` as it will create first_key attribute not `first`\n"
    }
   ],
   "source": [
    "class Person():\n",
    "    pass\n",
    "\n",
    "p1 = Person()\n",
    "try:\n",
    "\n",
    "    first_key = \"first\"\n",
    "    first_name = \"Rohit\"\n",
    "    p1.first_key = first_name\n",
    "    print(p1.first, p1.last)\n",
    "except AttributeError:\n",
    "    print('AttributeError')\n",
    "    print('we cant use `p1.first_key = first_name` as it will create first_key attribute not `first`')"
   ]
  },
  {
   "cell_type": "markdown",
   "metadata": {},
   "source": [
    "## Setattr/Getattr to solve above problem"
   ]
  },
  {
   "cell_type": "code",
   "execution_count": 26,
   "metadata": {},
   "outputs": [
    {
     "output_type": "stream",
     "name": "stdout",
     "text": "Rohit\n"
    }
   ],
   "source": [
    "class Person():\n",
    "    pass\n",
    "\n",
    "p1 = Person()\n",
    "\n",
    "first = \"first\"\n",
    "first_name = \"Rohit\"\n",
    "\n",
    "setattr(p1,first,first_name)\n",
    "\n",
    "fname = getattr(p1,first)\n",
    "print(p1.first)"
   ]
  }
 ],
 "metadata": {
  "language_info": {
   "codemirror_mode": {
    "name": "ipython",
    "version": 3
   },
   "file_extension": ".py",
   "mimetype": "text/x-python",
   "name": "python",
   "nbconvert_exporter": "python",
   "pygments_lexer": "ipython3",
   "version": "3.7.6-final"
  },
  "orig_nbformat": 2,
  "kernelspec": {
   "name": "python3",
   "display_name": "Python 3"
  }
 },
 "nbformat": 4,
 "nbformat_minor": 2
}