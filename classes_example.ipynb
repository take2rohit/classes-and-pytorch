{
 "cells": [
  {
   "cell_type": "markdown",
   "metadata": {},
   "source": [
    "# Python OOP Tutorial 1: Class and Instances\n",
    "\n",
    "Playlist Link: https://www.youtube.com/watch?v=ZDa-Z5JzLYM&list=PL-osiE80TeTsqhIuOqKhwlXsIBIdSeYtc\n",
    "\n",
    "\n",
    "## Definations\n",
    "\n",
    "- **Class** is a blueprint for the object.\n",
    "- **Object** is simply a collection of data (variables) and methods (functions) that act on those data. \n",
    "- An object is also called an **instance** of a class \n",
    "- Process of creating this object is called **instantiation**.\n",
    "- **Method** − A special kind of function that is defined in a class definition.\n",
    "\n",
    "We can think of class as a sketch (prototype) of a house. It contains all the details about the floors, doors, windows etc. Based on these descriptions we build the house. House is the object.\n",
    "\n",
    "\n",
    "\n",
    "## Creating Instance variables\n",
    "\n",
    "- Init method is default created and we must pass the instance\n",
    "- Error will be there if we dont pass the instance\n",
    "- The following are the instance variables which are unique to particular instances\n",
    "~~~\n",
    "        self.fname = first\n",
    "        self.lname = last\n",
    "        self.email = first + last + '@ivlabs.in'\n",
    "~~~\n",
    "-  in `member_1.fullname()` member_1 is automatically passed into the instance.\n",
    "-`member_1.fullname()` is same as `member.fullname(member_1)`"
   ]
  },
  {
   "cell_type": "code",
   "execution_count": 102,
   "metadata": {},
   "outputs": [
    {
     "name": "stdout",
     "output_type": "stream",
     "text": [
      "rohitlal@ivlabs.in\n"
     ]
    },
    {
     "data": {
      "text/plain": [
       "'rohit lal'"
      ]
     },
     "execution_count": 102,
     "metadata": {},
     "output_type": "execute_result"
    }
   ],
   "source": [
    "class Member:\n",
    "    \n",
    "    def __init__(self, first, last):\n",
    "        \n",
    "        self.fname = first\n",
    "        self.lname = last\n",
    "        self.email = first + last + '@ivlabs.in'\n",
    "        \n",
    "    def fullname(self):\n",
    "        return '{} {}'.format(self.fname, self.lname)\n",
    "    \n",
    "member_1 = Member('rohit','lal')\n",
    "print(member_1.email)\n",
    "# member_1.fullname()\n",
    "member_1.fullname()"
   ]
  },
  {
   "cell_type": "markdown",
   "metadata": {},
   "source": [
    "# Python OOP Tutorial 2: Class Variables\n",
    "\n",
    "\n",
    "- Class variables are variables that are shared among all instances of the class. OR Class variables are same for all instances\n",
    "\n",
    "- It can be accessed through class itself `member.raise_amount` OR It can be accessed through instance of the class `self.raise_amount`. They aren't same\n",
    "- `Employee.num_members +=1` can only be used. If used self then it will only change for that particular instance which is useless"
   ]
  },
  {
   "cell_type": "code",
   "execution_count": 103,
   "metadata": {},
   "outputs": [
    {
     "name": "stdout",
     "output_type": "stream",
     "text": [
      "0\n",
      "0\n"
     ]
    }
   ],
   "source": [
    "class Member:\n",
    "    \n",
    "    raise_amount = 1.04\n",
    "    num_members = 0\n",
    "    \n",
    "    def __init__(self, first, last):\n",
    "        \n",
    "        self.fname = first\n",
    "        self.lname = last\n",
    "        self.email = first + last + '@ivlabs.in'\n",
    "        self.num_members +=1 # dont use self otherwise its not useful\n",
    "        \n",
    "    def fullname(self):\n",
    "        return '{} {}'.format(self.fname, self.lname)\n",
    "    \n",
    "#     def apply()\n",
    "print(Member.num_members)\n",
    "member_1 = Member('rohit','lal')\n",
    "member_2 = Member('kuch','bhi')\n",
    "print(Member.num_members)"
   ]
  },
  {
   "cell_type": "code",
   "execution_count": 104,
   "metadata": {
    "scrolled": true
   },
   "outputs": [
    {
     "name": "stdout",
     "output_type": "stream",
     "text": [
      "1.04\n",
      "1.04\n",
      "1.04\n",
      "3\n",
      "3\n",
      "3\n",
      "{'__module__': '__main__', 'raise_amount': 3, 'num_members': 0, '__init__': <function Member.__init__ at 0x7f6665039e18>, 'fullname': <function Member.fullname at 0x7f667c1a9730>, '__dict__': <attribute '__dict__' of 'Member' objects>, '__weakref__': <attribute '__weakref__' of 'Member' objects>, '__doc__': None}\n"
     ]
    }
   ],
   "source": [
    "print(Member.raise_amount)\n",
    "print(member_1.raise_amount)\n",
    "print(member_2.raise_amount)\n",
    "\n",
    "\n",
    "Member.raise_amount = 3\n",
    "\n",
    "print(Member.raise_amount)\n",
    "print(member_1.raise_amount)\n",
    "print(member_2.raise_amount)\n",
    "print(Member.__dict__)"
   ]
  },
  {
   "cell_type": "markdown",
   "metadata": {},
   "source": [
    "# Warning\n",
    "\n",
    "`member_1.raise_amount` created an attribute under member_1\n",
    "See the namespace"
   ]
  },
  {
   "cell_type": "code",
   "execution_count": 105,
   "metadata": {},
   "outputs": [
    {
     "name": "stdout",
     "output_type": "stream",
     "text": [
      "1.04\n",
      "2\n",
      "1.04\n",
      "{'__module__': '__main__', 'raise_amount': 1.04, 'num_members': 0, '__init__': <function Member.__init__ at 0x7f6665039e18>, 'fullname': <function Member.fullname at 0x7f667c1a9730>, '__dict__': <attribute '__dict__' of 'Member' objects>, '__weakref__': <attribute '__weakref__' of 'Member' objects>, '__doc__': None}\n",
      "{'fname': 'rohit', 'lname': 'lal', 'email': 'rohitlal@ivlabs.in', 'num_members': 1, 'raise_amount': 2}\n",
      "{'fname': 'kuch', 'lname': 'bhi', 'email': 'kuchbhi@ivlabs.in', 'num_members': 1}\n"
     ]
    }
   ],
   "source": [
    "Member.raise_amount = 1.04 # reset\n",
    "member_1.raise_amount = 2\n",
    "\n",
    "print(Member.raise_amount)\n",
    "print(member_1.raise_amount)\n",
    "print(member_2.raise_amount)\n",
    "print(Member.__dict__)\n",
    "print(member_1.__dict__)\n",
    "print(member_2.__dict__)"
   ]
  },
  {
   "cell_type": "markdown",
   "metadata": {},
   "source": [
    "# Python OOP Tutorial 3: classmethods and staticmethods\n",
    "\n",
    "## Class methods\n",
    "\n",
    "- It automatically passes class\n",
    "- Regualar methods automatically takes the instance as the first arguments\n",
    "- add a decorator `@classmethod` to change this to pass a class instead. \n",
    "- `Member.set_raise_amt(3)` and `member_1.set_raise_amt(2)` has the same effect\n",
    "\n",
    "## Static methods\n",
    "\n",
    "- Doesn't pass anything (instance or class). They are simply like functions.\n",
    "- Decorator used is `@staticmethod`\n",
    "- check workday or not"
   ]
  },
  {
   "cell_type": "code",
   "execution_count": 106,
   "metadata": {},
   "outputs": [],
   "source": [
    "class Member:\n",
    "    \n",
    "    raise_amount = 1.04\n",
    "    num_members = 0\n",
    "    \n",
    "    def __init__(self, first, last, pay):\n",
    "        self.fname = first\n",
    "        self.lname = last\n",
    "        self.email = first + last + '@ivlabs.in'\n",
    "        self.pay = pay\n",
    "        Member.num_members +=1 \n",
    "        \n",
    "    def fullname(self):\n",
    "        return '{} {}'.format(self.fname, self.lname)\n",
    "    \n",
    "    def apply_raise(self):\n",
    "        self.pay = self.pay * self.raise_amount\n",
    "    \n",
    "    @classmethod\n",
    "    def set_raise_amt(cls, amt):\n",
    "        cls.raise_amount = amt\n",
    "        \n",
    "    @classmethod\n",
    "    def from_string(cls,mem_str):\n",
    "        first, last, pay = mem_str.split(' ')\n",
    "        return cls(first, last, pay)\n",
    "    \n",
    "    @staticmethod\n",
    "    def is_workday(day_number):\n",
    "        if day_number == 6 or day_number == 7:\n",
    "            return False\n",
    "        return True\n",
    "    \n",
    "member_1 = Member('rohit','lal', 100)\n",
    "member_2 = Member('kuch','bhi', 123)"
   ]
  },
  {
   "cell_type": "code",
   "execution_count": 107,
   "metadata": {},
   "outputs": [
    {
     "name": "stdout",
     "output_type": "stream",
     "text": [
      "3 3 3\n",
      "2 2 2\n"
     ]
    }
   ],
   "source": [
    "Member.set_raise_amt(3)\n",
    "print(Member.raise_amount, member_1.raise_amount, member_2.raise_amount)\n",
    "\n",
    "member_1.set_raise_amt(2)\n",
    "print(Member.raise_amount, member_1.raise_amount, member_2.raise_amount)"
   ]
  },
  {
   "cell_type": "code",
   "execution_count": 108,
   "metadata": {},
   "outputs": [
    {
     "name": "stdout",
     "output_type": "stream",
     "text": [
      "{'fname': 'no', 'lname': 'name', 'email': 'noname@ivlabs.in', 'pay': '1000'}\n"
     ]
    }
   ],
   "source": [
    "member_string = 'no name 1000'\n",
    "member_3 = Member.from_string(member_string)\n",
    "print(member_3.__dict__)"
   ]
  },
  {
   "cell_type": "code",
   "execution_count": 109,
   "metadata": {},
   "outputs": [
    {
     "data": {
      "text/plain": [
       "True"
      ]
     },
     "execution_count": 109,
     "metadata": {},
     "output_type": "execute_result"
    }
   ],
   "source": [
    "Member.is_workday(3)"
   ]
  },
  {
   "cell_type": "markdown",
   "metadata": {},
   "source": [
    "# Python OOP Tutorial 4: Inheritance - Creating Subclasses\n",
    "\n",
    "\n",
    "- Inhertance allows us to pass attributes and methods from parent classes.\n",
    "- Useful in creating subclasses\n",
    "- Inheriting from Member class ``` class Developer(Member) ```\n",
    "- Subclass changes doesnt affect the parent class\n",
    "- Use ```help(Developer)``` for more info about inheritance\n",
    "- `super().__init__(first, last, pay)` will let Employee to handle first, last and pay. It basically passes these arguments to employees init method and that class handle it.\n",
    "- `super().__init__(first, last, pay)` is same as `Employee.__init__(self, first, last, pay)` in this case. Useful in multiple inheritance\n",
    "- `isintance()` and `issubclass` function is useful for checking inhertance"
   ]
  },
  {
   "cell_type": "code",
   "execution_count": 110,
   "metadata": {},
   "outputs": [],
   "source": [
    "class Developer(Member):\n",
    "    \n",
    "    def __init__(self, first, last, pay, prog_lang):\n",
    "        super().__init__(first, last, pay)\n",
    "        self.prog_lang = prog_lang\n",
    "        \n",
    "class Manager(Member):\n",
    "\n",
    "    def __init__(self, first, last, pay, employees=None):\n",
    "        super().__init__(first, last, pay)\n",
    "        if employees is None:\n",
    "            self.employees = []\n",
    "        else:\n",
    "            self.employees = employees\n",
    "\n",
    "    def add_emp(self, emp):\n",
    "        if emp not in self.employees:\n",
    "            self.employees.append(emp)\n",
    "\n",
    "    def remove_emp(self, emp):\n",
    "        if emp in self.employees:\n",
    "            self.employees.remove(emp)\n",
    "\n",
    "    def print_emps(self):\n",
    "        for emp in self.employees:\n",
    "            print('-->', emp.fullname())"
   ]
  },
  {
   "cell_type": "code",
   "execution_count": 111,
   "metadata": {},
   "outputs": [
    {
     "name": "stdout",
     "output_type": "stream",
     "text": [
      "Python Java\n"
     ]
    }
   ],
   "source": [
    "dev_1 = Developer('Corey', 'Schafer',123, 'Python')\n",
    "dev_2 = Developer('What', 'name',222, 'Java')\n",
    "print(dev_1.prog_lang, dev_2.prog_lang)"
   ]
  },
  {
   "cell_type": "code",
   "execution_count": 113,
   "metadata": {},
   "outputs": [
    {
     "name": "stdout",
     "output_type": "stream",
     "text": [
      "--> Corey Schafer\n",
      "\n",
      "\n",
      "--> Corey Schafer\n",
      "--> What name\n"
     ]
    }
   ],
   "source": [
    "mgr_1 = Manager('sabka', 'Baap', 9000, [dev_1])\n",
    "mgr_1.print_emps()\n",
    "print('\\n')\n",
    "mgr_1.add_emp(dev_2)\n",
    "mgr_1.print_emps()"
   ]
  },
  {
   "cell_type": "code",
   "execution_count": null,
   "metadata": {},
   "outputs": [],
   "source": []
  },
  {
   "cell_type": "code",
   "execution_count": null,
   "metadata": {},
   "outputs": [],
   "source": []
  }
 ],
 "metadata": {
  "kernelspec": {
   "display_name": "Python 3",
   "language": "python",
   "name": "python3"
  },
  "language_info": {
   "codemirror_mode": {
    "name": "ipython",
    "version": 3
   },
   "file_extension": ".py",
   "mimetype": "text/x-python",
   "name": "python",
   "nbconvert_exporter": "python",
   "pygments_lexer": "ipython3",
   "version": "3.6.8"
  }
 },
 "nbformat": 4,
 "nbformat_minor": 2
}
